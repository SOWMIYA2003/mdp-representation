{
 "cells": [
  {
   "cell_type": "code",
   "execution_count": 1,
   "id": "4d621631",
   "metadata": {},
   "outputs": [],
   "source": [
    "P = {\n",
    "    0 : {\n",
    "        0 : [(1.0, 0, 0.0, False)],\n",
    "        1 : [(1.0, 1, 0.0, False)],\n",
    "        2 : [(1.0, 2, 0.0, False)],\n",
    "        3 : [(1.0, 0, 0.0, False)]\n",
    "    },\n",
    "\n",
    "    1 : {\n",
    "        0 : [(1.0, 1, 0.0, False)],\n",
    "        1 : [(1.0, 1, 0.0, False)],\n",
    "        2 : [(0.8, 3, 0.0, False), (0.2, 1, 0.0, False)],\n",
    "        3 : [(0.8, 0, 0.0, False), (0.2, 1, 0.0, False)]\n",
    "    },\n",
    "\n",
    "    2 : {\n",
    "        0 : [(0.8, 0, 0.0, False), (0.2, 2, 0.0, False)],\n",
    "        1 : [(0.8, 3, 0.0, False), (0.2, 2, 0.0, False)],\n",
    "        2 : [(1.0, 2, 0.0, False)],\n",
    "        3 : [(1.0, 2, 0.0, False)]\n",
    "    },\n",
    "\n",
    "    3 : {\n",
    "        0 : [(0.8, 1, 0.0, False), (0.2, 3, 0.0, False)],\n",
    "        1 : [(1.0, 3, 0.0, False)],\n",
    "        2 : [(0.8, 4, 0.0, False), (0.2, 3, 0.0, False)],\n",
    "        3 : [(0.8, 2, 0.0, False), (0.2, 3, 0.0, False)]\n",
    "    },\n",
    "\n",
    "    4 : {\n",
    "        0 : [(0.8, 3, 0.0, False), (0.2, 4, 0.0, False)],\n",
    "        1 : [(0.8, 5, 0.0, False), (0.2, 4, 0.0, False)],\n",
    "        2 : [(0.8, 6, 0.0, False), (0.2, 4, 0.0, False)],\n",
    "        3 : [(1.0, 4, 0.0, False)]\n",
    "    },\n",
    "\n",
    "    5 : {\n",
    "        0 : [(1.0, 5, 0.0, False)],\n",
    "        1 : [(1.0, 5, 0.0, False)],\n",
    "        2 : [(0.8, 7, 1.0, True), (0.2, 5, 0.0, False)],\n",
    "        3 : [(0.8, 4, 0.0, False), (0.2, 5, 0.0, False)]\n",
    "    },\n",
    "\n",
    "    6 : {\n",
    "        0 : [(0.8, 4, 0.0, False), (0.2, 6, 0.0, False)],\n",
    "        1 : [(0.8, 7, 1.0, True), (0.2, 6, 0.0, False)],\n",
    "        2 : [(1.0, 6, 0.0, False)],\n",
    "        3 : [(1.0, 6, 0.0, False)]\n",
    "    },\n",
    "\n",
    "    7 : {\n",
    "        0 : [(1.0, 7, 0.0, True)],\n",
    "        1 : [(1.0, 7, 0.0, True)],\n",
    "        2 : [(1.0, 7, 0.0, True)],\n",
    "        3 : [(1.0, 7, 0.0, True)]\n",
    "    }\n",
    "}"
   ]
  },
  {
   "cell_type": "code",
   "execution_count": 2,
   "id": "22eb9c1e",
   "metadata": {},
   "outputs": [
    {
     "data": {
      "text/plain": [
       "{0: {0: [(1.0, 0, 0.0, False)],\n",
       "  1: [(1.0, 1, 0.0, False)],\n",
       "  2: [(1.0, 2, 0.0, False)],\n",
       "  3: [(1.0, 0, 0.0, False)]},\n",
       " 1: {0: [(1.0, 1, 0.0, False)],\n",
       "  1: [(1.0, 1, 0.0, False)],\n",
       "  2: [(0.8, 3, 0.0, False), (0.2, 1, 0.0, False)],\n",
       "  3: [(0.8, 0, 0.0, False), (0.2, 1, 0.0, False)]},\n",
       " 2: {0: [(0.8, 0, 0.0, False), (0.2, 2, 0.0, False)],\n",
       "  1: [(0.8, 3, 0.0, False), (0.2, 2, 0.0, False)],\n",
       "  2: [(1.0, 2, 0.0, False)],\n",
       "  3: [(1.0, 2, 0.0, False)]},\n",
       " 3: {0: [(0.8, 1, 0.0, False), (0.2, 3, 0.0, False)],\n",
       "  1: [(1.0, 3, 0.0, False)],\n",
       "  2: [(0.8, 4, 0.0, False), (0.2, 3, 0.0, False)],\n",
       "  3: [(0.8, 2, 0.0, False), (0.2, 3, 0.0, False)]},\n",
       " 4: {0: [(0.8, 3, 0.0, False), (0.2, 4, 0.0, False)],\n",
       "  1: [(0.8, 5, 0.0, False), (0.2, 4, 0.0, False)],\n",
       "  2: [(0.8, 6, 0.0, False), (0.2, 4, 0.0, False)],\n",
       "  3: [(1.0, 4, 0.0, False)]},\n",
       " 5: {0: [(1.0, 5, 0.0, False)],\n",
       "  1: [(1.0, 5, 0.0, False)],\n",
       "  2: [(0.8, 7, 1.0, True), (0.2, 5, 0.0, False)],\n",
       "  3: [(0.8, 4, 0.0, False), (0.2, 5, 0.0, False)]},\n",
       " 6: {0: [(0.8, 4, 0.0, False), (0.2, 6, 0.0, False)],\n",
       "  1: [(0.8, 7, 1.0, True), (0.2, 6, 0.0, False)],\n",
       "  2: [(1.0, 6, 0.0, False)],\n",
       "  3: [(1.0, 6, 0.0, False)]},\n",
       " 7: {0: [(1.0, 7, 0.0, True)],\n",
       "  1: [(1.0, 7, 0.0, True)],\n",
       "  2: [(1.0, 7, 0.0, True)],\n",
       "  3: [(1.0, 7, 0.0, True)]}}"
      ]
     },
     "execution_count": 2,
     "metadata": {},
     "output_type": "execute_result"
    }
   ],
   "source": [
    "P"
   ]
  },
  {
   "cell_type": "code",
   "execution_count": null,
   "id": "08e01c45",
   "metadata": {},
   "outputs": [],
   "source": []
  }
 ],
 "metadata": {
  "kernelspec": {
   "display_name": "Python 3 (ipykernel)",
   "language": "python",
   "name": "python3"
  },
  "language_info": {
   "codemirror_mode": {
    "name": "ipython",
    "version": 3
   },
   "file_extension": ".py",
   "mimetype": "text/x-python",
   "name": "python",
   "nbconvert_exporter": "python",
   "pygments_lexer": "ipython3",
   "version": "3.11.5"
  }
 },
 "nbformat": 4,
 "nbformat_minor": 5
}
